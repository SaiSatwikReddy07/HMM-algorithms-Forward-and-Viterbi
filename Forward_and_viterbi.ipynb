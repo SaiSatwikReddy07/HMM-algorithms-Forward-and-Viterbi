{
  "nbformat": 4,
  "nbformat_minor": 0,
  "metadata": {
    "colab": {
      "provenance": []
    },
    "kernelspec": {
      "name": "python3",
      "display_name": "Python 3"
    },
    "language_info": {
      "name": "python"
    }
  },
  "cells": [
    {
      "cell_type": "code",
      "source": [
        "import numpy as np\n",
        "\n",
        "def forward_algorithm(observations, hidden_states, initial_probs, transition_probs, emission_probs):\n",
        "    # Number of hidden states\n",
        "    num_states = len(hidden_states)\n",
        "    # Length of the observation sequence\n",
        "    sequence_length = len(observations)\n",
        "\n",
        "    # Initialize the forward probabilities alpha\n",
        "    alpha = np.zeros((sequence_length, num_states))\n",
        "    for i in range(num_states):\n",
        "        alpha[0][i] = initial_probs[i] * emission_probs[i][observations[0]]\n",
        "\n",
        "    # Recursively compute the forward probabilities for each time step\n",
        "    for t in range(1, sequence_length):\n",
        "        for j in range(num_states):\n",
        "            alpha[t][j] = emission_probs[j][observations[t]] * sum(alpha[t - 1][i] * transition_probs[i][j] for i in range(num_states))\n",
        "\n",
        "    # Compute the total probability of observing the sequence\n",
        "    probability = sum(alpha[sequence_length - 1])\n",
        "\n",
        "    return alpha, probability"
      ],
      "metadata": {
        "id": "ly2GJzPd9wug"
      },
      "execution_count": 18,
      "outputs": []
    },
    {
      "cell_type": "code",
      "source": [
        "obs = [1, 2, 1, 2]\n",
        "hidden = ['A', 'B']  # possible hidden states\n",
        "initial_probs = np.array([0.35, 0.75])  # initial state probabilities\n",
        "transition_probs = np.array([[0.65, 0.45], [0.25, 0.85]])  # transition probabilities\n",
        "emission_probs = np.array([[0.15, 0.95, 0.45], [0.75, 0.35, 0.65]])  # emission probabilities\n",
        "\n",
        "# Compute the forward probabilities and the total probability of observing the given sequence\n",
        "alpha, probability = forward_algorithm(obs, hidden, initial_probs, transition_probs, emission_probs)\n",
        "print(\"Forward probabilities:\\n\", alpha)\n",
        "print(\"Total probability of observing sequence {} in the given HMM: {:.4f}\".format(obs, probability))"
      ],
      "metadata": {
        "colab": {
          "base_uri": "https://localhost:8080/"
        },
        "id": "imrpyyt992gA",
        "outputId": "390a6850-10f3-4dbb-bc5a-6e6154469dea"
      },
      "execution_count": 19,
      "outputs": [
        {
          "output_type": "stream",
          "name": "stdout",
          "text": [
            "Forward probabilities:\n",
            " [[0.3325     0.2625    ]\n",
            " [0.1267875  0.2422875 ]\n",
            " [0.13583456 0.09204956]\n",
            " [0.05008719 0.09058899]]\n",
            "Total probability of observing sequence [1, 2, 1, 2] in the given HMM: 0.1407\n"
          ]
        }
      ]
    },
    {
      "cell_type": "code",
      "source": [
        "import numpy as np\n",
        "\n",
        "def viterbi(observations, hidden_states, initial_probabilities, transition_probabilities, emission_probabilities):\n",
        "    num_states = len(hidden_states)\n",
        "    sequence_length = len(observations)\n",
        "\n",
        "    # Initialize the Viterbi probabilities delta and the corresponding backpointers\n",
        "    delta = np.zeros((sequence_length, num_states))\n",
        "    backpointers = np.zeros((sequence_length, num_states), dtype=int)\n",
        "    for i in range(num_states):\n",
        "        delta[0][i] = initial_probabilities[i] * emission_probabilities[i][observations[0]]\n",
        "\n",
        "    # Recursively compute the Viterbi probabilities and backpointers for each time step\n",
        "    for t in range(1, sequence_length):\n",
        "        for j in range(num_states):\n",
        "            max_delta = 0\n",
        "            max_backpointer = 0\n",
        "            for i in range(num_states):\n",
        "                current_delta = delta[t - 1][i] * transition_probabilities[i][j] * emission_probabilities[j][observations[t]]\n",
        "                if current_delta > max_delta:\n",
        "                    max_delta = current_delta\n",
        "                    max_backpointer = i\n",
        "            delta[t][j] = max_delta\n",
        "            backpointers[t][j] = max_backpointer\n",
        "\n",
        "    # Find the most likely sequence of hidden states\n",
        "    most_likely_sequence = [0] * sequence_length\n",
        "    most_likely_sequence[-1] = np.argmax(delta[sequence_length - 1])\n",
        "    for t in range(sequence_length - 2, -1, -1):\n",
        "        most_likely_sequence[t] = backpointers[t + 1][most_likely_sequence[t + 1]]\n",
        "\n",
        "    return most_likely_sequence"
      ],
      "metadata": {
        "id": "64cxNuHA942C"
      },
      "execution_count": 20,
      "outputs": []
    },
    {
      "cell_type": "code",
      "source": [
        "obs = [1, 2, 1, 0]\n",
        "hidden = ['A', 'B']  # possible hidden states\n",
        "initial_probs = np.array([0.4, 0.6])  # initial state probabilities\n",
        "transition_probs = np.array([[0.7, 0.3], [0.2, 0.8]])  # transition probabilities\n",
        "emission_probs = np.array([[0.15, 0.85, 0.45], [0.75, 0.35, 0.65]])  # emission probabilities\n",
        "\n",
        "# Compute the most likely sequence of hidden states for the given sequence of observations\n",
        "most_likely_sequence = viterbi(obs, hidden, initial_probs, transition_probs, emission_probs)\n",
        "print(\"Most likely sequence of hidden states for observed sequence {}: {}\".format(obs, [hidden[i] for i in most_likely_sequence]))"
      ],
      "metadata": {
        "colab": {
          "base_uri": "https://localhost:8080/"
        },
        "id": "f9lnl1s9-_Nm",
        "outputId": "8df482f0-b17e-4fa8-9868-8fbe835340bb"
      },
      "execution_count": 21,
      "outputs": [
        {
          "output_type": "stream",
          "name": "stdout",
          "text": [
            "Most likely sequence of hidden states for observed sequence [1, 2, 1, 0]: ['B', 'B', 'B', 'B']\n"
          ]
        }
      ]
    }
  ]
}